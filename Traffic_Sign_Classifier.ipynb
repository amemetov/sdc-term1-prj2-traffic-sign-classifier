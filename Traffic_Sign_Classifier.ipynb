{
 "cells": [
  {
   "cell_type": "markdown",
   "metadata": {
    "deletable": true,
    "editable": true
   },
   "source": [
    "# Self-Driving Car Engineer Nanodegree\n",
    "\n",
    "## Deep Learning\n",
    "\n",
    "## Project: Build a Traffic Sign Recognition Classifier\n",
    "\n",
    "In this notebook, a template is provided for you to implement your functionality in stages, which is required to successfully complete this project. If additional code is required that cannot be included in the notebook, be sure that the Python code is successfully imported and included in your submission if necessary. \n",
    "\n",
    "> **Note**: Once you have completed all of the code implementations, you need to finalize your work by exporting the iPython Notebook as an HTML document. Before exporting the notebook to html, all of the code cells need to have been run so that reviewers can see the final implementation and output. You can then export the notebook by using the menu above and navigating to  \\n\",\n",
    "    \"**File -> Download as -> HTML (.html)**. Include the finished document along with this notebook as your submission. \n",
    "\n",
    "In addition to implementing code, there is a writeup to complete. The writeup should be completed in a separate file, which can be either a markdown file or a pdf document. There is a [write up template](https://github.com/udacity/CarND-Traffic-Sign-Classifier-Project/blob/master/writeup_template.md) that can be used to guide the writing process. Completing the code template and writeup template will cover all of the [rubric points](https://review.udacity.com/#!/rubrics/481/view) for this project.\n",
    "\n",
    "The [rubric](https://review.udacity.com/#!/rubrics/481/view) contains \"Stand Out Suggestions\" for enhancing the project beyond the minimum requirements. The stand out suggestions are optional. If you decide to pursue the \"stand out suggestions\", you can include the code in this Ipython notebook and also discuss the results in the writeup file.\n",
    "\n",
    "\n",
    ">**Note:** Code and Markdown cells can be executed using the **Shift + Enter** keyboard shortcut. In addition, Markdown cells can be edited by typically double-clicking the cell to enter edit mode."
   ]
  },
  {
   "cell_type": "markdown",
   "metadata": {
    "deletable": true,
    "editable": true
   },
   "source": [
    "---\n",
    "## Step 0: Load The Data"
   ]
  },
  {
   "cell_type": "code",
   "execution_count": null,
   "metadata": {
    "collapsed": false,
    "deletable": true,
    "editable": true
   },
   "outputs": [],
   "source": [
    "import numpy as np\n",
    "import pandas as pd\n",
    "import tensorflow as tf\n",
    "from scipy import ndimage\n",
    "from sklearn.utils import shuffle\n",
    "from skimage import exposure\n",
    "\n",
    "import matplotlib.pyplot as plt\n",
    "# Visualizations will be shown in the notebook.\n",
    "%matplotlib inline\n",
    "\n",
    "# for auto-reloading external modules\n",
    "# see http://stackoverflow.com/questions/1907993/autoreload-of-modules-in-ipython\n",
    "%load_ext autoreload\n",
    "%autoreload 2"
   ]
  },
  {
   "cell_type": "code",
   "execution_count": null,
   "metadata": {
    "collapsed": false,
    "deletable": true,
    "editable": true
   },
   "outputs": [],
   "source": [
    "# Load pickled data\n",
    "import pickle\n",
    "import os.path\n",
    "\n",
    "def load_data(file):\n",
    "    with open(file, mode='rb') as f:\n",
    "        obj = pickle.load(f)\n",
    "    print('Data is loaded from {0}'.format(file))\n",
    "    return obj['features'], obj['labels'].astype(int)\n",
    "\n",
    "\n",
    "# method for storing datasets (for example for augment data)\n",
    "def store_data(X, y, file):\n",
    "    obj = {'features': X, 'labels': y}\n",
    "    if os.path.isfile(file) :\n",
    "        print('Error: file {0} already exists.'.format(file))\n",
    "        \n",
    "    with open(file, mode='wb+') as f:\n",
    "        pickle.dump(obj, f)\n",
    "        print('Data is stored into {0}'.format(file))\n",
    "\n",
    "\n",
    "training_file = 'data/origin/train.p'\n",
    "validation_file= 'data/origin/valid.p'\n",
    "testing_file = 'data/origin/test.p'\n",
    "\n",
    "X_train_orig, y_train_orig = load_data(training_file)\n",
    "X_valid_orig, y_valid_orig = load_data(validation_file)\n",
    "X_test_orig, y_test_orig = load_data(testing_file)"
   ]
  },
  {
   "cell_type": "markdown",
   "metadata": {
    "deletable": true,
    "editable": true
   },
   "source": [
    "---\n",
    "\n",
    "## Step 1: Dataset Summary & Exploration\n",
    "\n",
    "The pickled data is a dictionary with 4 key/value pairs:\n",
    "\n",
    "- `'features'` is a 4D array containing raw pixel data of the traffic sign images, (num examples, width, height, channels).\n",
    "- `'labels'` is a 1D array containing the label/class id of the traffic sign. The file `signnames.csv` contains id -> name mappings for each id.\n",
    "- `'sizes'` is a list containing tuples, (width, height) representing the original width and height the image.\n",
    "- `'coords'` is a list containing tuples, (x1, y1, x2, y2) representing coordinates of a bounding box around the sign in the image. **THESE COORDINATES ASSUME THE ORIGINAL IMAGE. THE PICKLED DATA CONTAINS RESIZED VERSIONS (32 by 32) OF THESE IMAGES**\n",
    "\n",
    "Complete the basic data summary below. Use python, numpy and/or pandas methods to calculate the data summary rather than hard coding the results. For example, the [pandas shape method](http://pandas.pydata.org/pandas-docs/stable/generated/pandas.DataFrame.shape.html) might be useful for calculating some of the summary results. "
   ]
  },
  {
   "cell_type": "markdown",
   "metadata": {
    "deletable": true,
    "editable": true
   },
   "source": [
    "### Provide a Basic Summary of the Data Set Using Python, Numpy and/or Pandas"
   ]
  },
  {
   "cell_type": "code",
   "execution_count": null,
   "metadata": {
    "collapsed": false,
    "deletable": true,
    "editable": true
   },
   "outputs": [],
   "source": [
    "signnames_file = 'signnames.csv'\n",
    "signnames_data = pd.DataFrame.from_csv(signnames_file)\n",
    "\n",
    "print ('Rows: ' + str(signnames_data.shape[0]))"
   ]
  },
  {
   "cell_type": "code",
   "execution_count": null,
   "metadata": {
    "collapsed": false,
    "deletable": true,
    "editable": true
   },
   "outputs": [],
   "source": [
    "### Replace each question mark with the appropriate value. \n",
    "### Use python, pandas or numpy methods rather than hard coding the results\n",
    "\n",
    "# TODO: Number of training examples\n",
    "n_train = X_train_orig.shape[0]\n",
    "\n",
    "# TODO: Number of testing examples.\n",
    "n_test = X_test_orig.shape[0]\n",
    "\n",
    "# TODO: What's the shape of an traffic sign image?\n",
    "image_shape = (X_train_orig.shape[1:])\n",
    "\n",
    "# TODO: How many unique classes/labels there are in the dataset.\n",
    "n_classes = np.unique(y_train_orig).size\n",
    "\n",
    "print(\"Number of training examples =\", n_train)\n",
    "print(\"Number of testing examples =\", n_test)\n",
    "print(\"Image data shape =\", image_shape)\n",
    "print(\"Number of classes =\", n_classes)"
   ]
  },
  {
   "cell_type": "markdown",
   "metadata": {
    "deletable": true,
    "editable": true
   },
   "source": [
    "### Include an exploratory visualization of the dataset"
   ]
  },
  {
   "cell_type": "markdown",
   "metadata": {
    "deletable": true,
    "editable": true
   },
   "source": [
    "Visualize the German Traffic Signs Dataset using the pickled file(s). This is open ended, suggestions include: plotting traffic sign images, plotting the count of each sign, etc.\n",
    "\n",
    "The [Matplotlib](http://matplotlib.org/) [examples](http://matplotlib.org/examples/index.html) and [gallery](http://matplotlib.org/gallery.html) pages are a great resource for doing visualizations in Python.\n",
    "\n",
    "**NOTE:** It's recommended you start with something simple first. If you wish to do more, come back to it after you've completed the rest of the sections."
   ]
  },
  {
   "cell_type": "code",
   "execution_count": null,
   "metadata": {
    "collapsed": false,
    "deletable": true,
    "editable": true
   },
   "outputs": [],
   "source": [
    "### Data exploration visualization code goes here.\n",
    "### Feel free to use as many code cells as needed.\n",
    "\n",
    "def visualize_data(X, y, visualize_class_num=5, cmap=None):\n",
    "    if cmap == 'gray':\n",
    "        X = X.reshape(X.shape[0], X.shape[1], X.shape[2])\n",
    "        \n",
    "    classes = np.unique(y)\n",
    "    num_classes = classes.size\n",
    "    \n",
    "    fig, axes = plt.subplots(nrows=num_classes, ncols=visualize_class_num, figsize=(visualize_class_num*4, num_classes*2))\n",
    "        \n",
    "    plt.setp(axes.flat, xticks=[], yticks=[])\n",
    "\n",
    "    for c, plt_row in zip(classes, axes):\n",
    "        if visualize_class_num == 1:\n",
    "            plt_row = np.array([plt_row])\n",
    "            \n",
    "        indices = np.where(y == c)[0]\n",
    "        indices = np.random.choice(indices, visualize_class_num)\n",
    "        X_filtered_by_class = X[indices]\n",
    "        if len(X_filtered_by_class) < 1:\n",
    "            continue\n",
    "        \n",
    "        images = X_filtered_by_class\n",
    "\n",
    "        plt_row[0].set_title('Class ' + str(c) + ': ' + signnames_data.get_value(c, 'SignName'), size=12)\n",
    "\n",
    "        for img, col_idx in zip(images, range(visualize_class_num)):\n",
    "            plt_row[col_idx].imshow(img, cmap=cmap)\n",
    "\n",
    "    plt.tight_layout()"
   ]
  },
  {
   "cell_type": "code",
   "execution_count": null,
   "metadata": {
    "collapsed": false,
    "deletable": true,
    "editable": true
   },
   "outputs": [],
   "source": [
    "visualize_data(X_train_orig, y_train_orig, visualize_class_num=5)"
   ]
  },
  {
   "cell_type": "markdown",
   "metadata": {
    "deletable": true,
    "editable": true
   },
   "source": [
    "### Check balance of the Dataset"
   ]
  },
  {
   "cell_type": "code",
   "execution_count": null,
   "metadata": {
    "collapsed": false,
    "deletable": true,
    "editable": true
   },
   "outputs": [],
   "source": [
    "def check_balance(dataset_labels, dataset_name, num_classes):\n",
    "    items_per_classes = []\n",
    "\n",
    "    for c in range(num_classes):\n",
    "        items_per_classes.append(len(dataset_labels[dataset_labels == c]))\n",
    "\n",
    "    plt.figure()\n",
    "    plt.bar(np.arange(num_classes), items_per_classes)\n",
    "    max_items_per_classes = max(items_per_classes)\n",
    "    plt.axis([0, num_classes, 0, 1.1 * max_items_per_classes])\n",
    "    plt.title(\"Number of samples for each class for \" + dataset_name + '. Total #: ' + str(np.sum(items_per_classes, axis=0)))\n",
    "    plt.grid(True)"
   ]
  },
  {
   "cell_type": "code",
   "execution_count": null,
   "metadata": {
    "collapsed": false,
    "deletable": true,
    "editable": true
   },
   "outputs": [],
   "source": [
    "# we expect the data to be balanced across classes.\n",
    "check_balance(y_train_orig, 'train_dataset', n_classes)\n",
    "check_balance(y_valid_orig, 'valid_dataset', n_classes)"
   ]
  },
  {
   "cell_type": "markdown",
   "metadata": {
    "deletable": true,
    "editable": true
   },
   "source": [
    "----\n",
    "\n",
    "## Step 2: Design and Test a Model Architecture\n",
    "\n",
    "Design and implement a deep learning model that learns to recognize traffic signs. Train and test your model on the [German Traffic Sign Dataset](http://benchmark.ini.rub.de/?section=gtsrb&subsection=dataset).\n",
    "\n",
    "The LeNet-5 implementation shown in the [classroom](https://classroom.udacity.com/nanodegrees/nd013/parts/fbf77062-5703-404e-b60c-95b78b2f3f9e/modules/6df7ae49-c61c-4bb2-a23e-6527e69209ec/lessons/601ae704-1035-4287-8b11-e2c2716217ad/concepts/d4aca031-508f-4e0b-b493-e7b706120f81) at the end of the CNN lesson is a solid starting point. You'll have to change the number of classes and possibly the preprocessing, but aside from that it's plug and play! \n",
    "\n",
    "With the LeNet-5 solution from the lecture, you should expect a validation set accuracy of about 0.89. To meet specifications, the validation set accuracy will need to be at least 0.93. It is possible to get an even higher accuracy, but 0.93 is the minimum for a successful project submission. \n",
    "\n",
    "There are various aspects to consider when thinking about this problem:\n",
    "\n",
    "- Neural network architecture (is the network over or underfitting?)\n",
    "- Play around preprocessing techniques (normalization, rgb to grayscale, etc)\n",
    "- Number of examples per label (some have more than others).\n",
    "- Generate fake data.\n",
    "\n",
    "Here is an example of a [published baseline model on this problem](http://yann.lecun.com/exdb/publis/pdf/sermanet-ijcnn-11.pdf). It's not required to be familiar with the approach used in the paper but, it's good practice to try to read papers like these."
   ]
  },
  {
   "cell_type": "markdown",
   "metadata": {
    "deletable": true,
    "editable": true
   },
   "source": [
    "### Generate Augment Dataset"
   ]
  },
  {
   "cell_type": "code",
   "execution_count": null,
   "metadata": {
    "collapsed": false,
    "deletable": true,
    "editable": true
   },
   "outputs": [],
   "source": [
    "from AugmentData import augment_data\n",
    "\n",
    "aug_train_file = 'data/aug_1000/train.p'\n",
    "aug_valid_file= 'data/aug_1000/valid.p'\n",
    "\n",
    "\n",
    "if os.path.isfile(aug_train_file) :\n",
    "    print('Load Augment X_train')\n",
    "    X_train_orig_aug, y_train_aug = load_data(aug_train_file)\n",
    "else:\n",
    "    print('Augment X_train')\n",
    "    X_train_orig_gray = rgb2gray(X_train_orig / 255.0)\n",
    "    min_num_per_class = 1000\n",
    "    target_total_samples_count = n_classes*min_num_per_class\n",
    "    X_train_orig_aug, y_train_aug = augment_data(X_train_orig_gray, y_train_orig, n_classes, target_total_samples_count)\n",
    "    # store Augment dataset if need\n",
    "    #store_data(X_train_orig_aug, y_train_aug, aug_train_file)\n",
    "\n",
    "\n",
    "print('')\n",
    "\n",
    "if os.path.isfile(aug_valid_file) :\n",
    "    print('Load Augment X_valid')\n",
    "    X_valid_orig_aug, y_valid_aug = load_data(aug_valid_file)\n",
    "else:\n",
    "    print('Augment X_valid')\n",
    "    X_valid_orig_gray = rgb2gray(X_valid_orig / 255.0)\n",
    "    min_num_per_class = 100\n",
    "    target_total_samples_count = n_classes*min_num_per_class\n",
    "    X_valid_orig_aug, y_valid_aug = augment_data(X_valid_orig_gray, y_valid_orig, n_classes, target_total_samples_count)\n",
    "    # store Augment dataset if need\n",
    "    #store_data(X_valid_orig_aug, y_valid_aug, aug_valid_file)"
   ]
  },
  {
   "cell_type": "markdown",
   "metadata": {
    "deletable": true,
    "editable": true
   },
   "source": [
    "#### Check Balance of the Augment Dataset"
   ]
  },
  {
   "cell_type": "code",
   "execution_count": null,
   "metadata": {
    "collapsed": false,
    "deletable": true,
    "editable": true
   },
   "outputs": [],
   "source": [
    "check_balance(y_train_aug, 'train_aug_dataset', n_classes)\n",
    "check_balance(y_valid_aug, 'valid_aug_dataset', n_classes)"
   ]
  },
  {
   "cell_type": "code",
   "execution_count": null,
   "metadata": {
    "collapsed": false,
    "deletable": true,
    "editable": true
   },
   "outputs": [],
   "source": [
    "visualize_data(X_train_orig_aug, y_train_aug, cmap='gray')"
   ]
  },
  {
   "cell_type": "markdown",
   "metadata": {
    "deletable": true,
    "editable": true
   },
   "source": [
    "### Pre-process the Data Set (normalization, grayscale, etc.)"
   ]
  },
  {
   "cell_type": "markdown",
   "metadata": {
    "deletable": true,
    "editable": true
   },
   "source": [
    "Use the code cell (or multiple code cells, if necessary) to implement the first step of your project."
   ]
  },
  {
   "cell_type": "code",
   "execution_count": null,
   "metadata": {
    "collapsed": false,
    "deletable": true,
    "editable": true
   },
   "outputs": [],
   "source": [
    "### Preprocess the data here. Preprocessing steps could include normalization, converting to grayscale, etc.\n",
    "### Feel free to use as many code cells as needed.\n",
    "\n",
    "def rgb2gray(rgb):\n",
    "    # https://en.wikipedia.org/wiki/Grayscale#Converting_color_to_grayscale\n",
    "    # Y' = 0.299 R + 0.587 G + 0.114 B\n",
    "    result = np.dot(rgb[...,:3], [0.299, 0.587, 0.114])\n",
    "    return result.reshape((rgb.shape[0], rgb.shape[1], rgb.shape[2], 1))\n",
    "\n",
    "def base_preprocess(dataset, hist_eq=True):\n",
    "    if issubclass(dataset.dtype.type, np.integer):\n",
    "        dataset = dataset / 255.0\n",
    "    \n",
    "    # convert to rgb only if dataset is not gray already\n",
    "    if dataset.shape[3] == 3 or dataset.shape[3] == 4:\n",
    "        dataset = rgb2gray(dataset)\n",
    "    \n",
    "    if hist_eq:\n",
    "        dataset = exposure.equalize_hist(dataset)\n",
    "        \n",
    "    return dataset\n",
    "\n",
    "def stats_preprocess(dataset, mean, std):\n",
    "    # zero-centering\n",
    "    dataset -= mean\n",
    "    \n",
    "    # normalization\n",
    "    dataset /= (std + 1e-8)\n",
    "    \n",
    "    return dataset\n",
    "\n",
    "def full_preprocess(dataset, mean, std):\n",
    "    dataset = base_preprocess(dataset)\n",
    "    dataset = stats_preprocess(dataset, mean, std)\n",
    "    return dataset\n"
   ]
  },
  {
   "cell_type": "markdown",
   "metadata": {
    "deletable": true,
    "editable": true
   },
   "source": [
    "#### BasePreProcessing\n",
    "\n",
    "BasePreProcessing has the following steps:\n",
    "* converting [0-255] range to [0-1]\n",
    "* RGB -> GRAY\n",
    "* HistogramEqualization"
   ]
  },
  {
   "cell_type": "code",
   "execution_count": null,
   "metadata": {
    "collapsed": false,
    "deletable": true,
    "editable": true
   },
   "outputs": [],
   "source": [
    "# BasePreprocessing for Origin Data\n",
    "X_train = base_preprocess(np.copy(X_train_orig))\n",
    "y_train = y_train_orig\n",
    "X_valid = base_preprocess(np.copy(X_valid_orig))\n",
    "y_valid = y_valid_orig\n",
    "X_test = base_preprocess(np.copy(X_test_orig))\n",
    "y_test = y_test_orig\n",
    "\n",
    "# BasePreprocessing for Augment Data\n",
    "X_train_aug = base_preprocess(np.copy(X_train_orig_aug))\n",
    "#y_train_aug = y_train_aug\n",
    "X_valid_aug = base_preprocess(np.copy(X_valid_orig_aug))\n",
    "#y_valid_aug = y_valid_aug\n",
    "# We make copy of Test dataset for Augment Data too, cause we PreProcess it using stats of X_train_aug\n",
    "X_test_aug = np.copy(X_test)\n",
    "y_test_aug = y_test_orig\n",
    "    \n",
    "# print some stats\n",
    "print('X_train.mean: {0}'.format(X_train.mean()))\n",
    "print('X_train.min: {0}'.format(X_train.min()))\n",
    "print('X_train.max: {0}'.format(X_train.max()))\n",
    "print('')\n",
    "print('X_train_aug.mean: {0}'.format(X_train_aug.mean()))\n",
    "print('X_train_aug.min: {0}'.format(X_train_aug.min()))\n",
    "print('X_train_aug.max: {0}'.format(X_train_aug.max()))"
   ]
  },
  {
   "cell_type": "markdown",
   "metadata": {
    "deletable": true,
    "editable": true
   },
   "source": [
    "#### StatsPreProcessing\n",
    "After **BasePreProcessing** we compute MEAN and STDDEV of TEST Datasets, and then using MEAN and STDDEV we make **StatsPreProcessing**:\n",
    "* zero-centering (subtracting the MEAN)\n",
    "* normalization (dividing by STDDEV)\n"
   ]
  },
  {
   "cell_type": "code",
   "execution_count": null,
   "metadata": {
    "collapsed": false,
    "deletable": true,
    "editable": true
   },
   "outputs": [],
   "source": [
    "# 1) PreProcess for Origin Dataset\n",
    "train_orig_mean = np.mean(X_train)\n",
    "train_orig_std = np.std(X_train, axis=0)\n",
    "\n",
    "X_train = stats_preprocess(np.copy(X_train), train_orig_mean, train_orig_std)\n",
    "X_valid = stats_preprocess(np.copy(X_valid), train_orig_mean, train_orig_std)\n",
    "X_test = stats_preprocess(np.copy(X_test), train_orig_mean, train_orig_std)\n",
    "\n",
    "# 2) PreProcess for Augment Dataset\n",
    "train_aug_mean = np.mean(X_train_aug)\n",
    "train_aug_std = np.std(X_train_aug, axis=0)\n",
    "\n",
    "X_train_aug = stats_preprocess(np.copy(X_train_aug), train_aug_mean, train_aug_std)\n",
    "X_valid_aug = stats_preprocess(np.copy(X_valid_aug), train_aug_mean, train_aug_std)\n",
    "X_test_aug = stats_preprocess(np.copy(X_test_aug), train_aug_mean, train_aug_std)\n",
    "\n",
    "# print some stats\n",
    "print('X_train.mean: {0}'.format(X_train.mean()))\n",
    "print('X_train.min: {0}'.format(X_train.min()))\n",
    "print('X_train.max: {0}'.format(X_train.max()))\n",
    "print('')\n",
    "print('X_train_aug.mean: {0}'.format(X_train_aug.mean()))\n",
    "print('X_train_aug.min: {0}'.format(X_train_aug.min()))\n",
    "print('X_train_aug.max: {0}'.format(X_train_aug.max()))"
   ]
  },
  {
   "cell_type": "markdown",
   "metadata": {
    "deletable": true,
    "editable": true
   },
   "source": [
    "### Let's check data cloud of the Origin and of the Preprocessed data\n"
   ]
  },
  {
   "cell_type": "code",
   "execution_count": null,
   "metadata": {
    "collapsed": false,
    "deletable": true,
    "editable": true
   },
   "outputs": [],
   "source": [
    "def plot_features(feature1, feature2, plt_col):\n",
    "    plt_col.axhline(0, color='black')\n",
    "    plt_col.axvline(0, color='black')\n",
    "    \n",
    "    scale = 1.1\n",
    "    max_f1 = scale*abs(max(feature1.min(), feature1.max(), key=abs))\n",
    "    max_f2 = scale*abs(max(feature2.min(), feature2.max(), key=abs))\n",
    "    plt_col.axis([-max_f1, max_f1, -max_f2, max_f2])\n",
    "    \n",
    "    plt_col.plot(feature1, feature2, 'ro')\n",
    "    \n",
    "def plot_data_clouds(orig_data, pp_data, pp_data_without_hist_eq, data_indices, f1_indices, f2_indices):\n",
    "    orig_f1 = orig_data[data_indices,f1_indices[0],f1_indices[1]]\n",
    "    orig_f2 = orig_data[data_indices,f2_indices[0],f2_indices[1]]\n",
    "    \n",
    "    pp_f1 = pp_data[data_indices,f1_indices[0],f1_indices[1]]\n",
    "    pp_f2 = pp_data[data_indices,f2_indices[0],f2_indices[1]]\n",
    "    \n",
    "    pp_without_hist_eq_f1 = pp_data_without_hist_eq[data_indices,f1_indices[0],f1_indices[1]]\n",
    "    pp_without_hist_eq_f2 = pp_data_without_hist_eq[data_indices,f2_indices[0],f2_indices[1]]\n",
    "    \n",
    "    \n",
    "    fig, axes = plt.subplots(nrows=1, ncols=3, figsize=(15, 5))\n",
    "    \n",
    "    plt_col1 = axes[0]\n",
    "    plt_col1.set_title('Origin Data')\n",
    "    plot_features(orig_f1, orig_f2, plt_col1)\n",
    "    \n",
    "    plt_col2 = axes[1]\n",
    "    plt_col2.set_title('PreProcessed Data')\n",
    "    plot_features(pp_f1, pp_f2, plt_col2)\n",
    "    \n",
    "    plt_col3 = axes[2]\n",
    "    plt_col3.set_title('PreProcessed Data without HistEq')\n",
    "    plot_features(pp_without_hist_eq_f1, pp_without_hist_eq_f2, plt_col3)    \n",
    "    \n",
    "    plt.tight_layout()\n",
    "    "
   ]
  },
  {
   "cell_type": "code",
   "execution_count": null,
   "metadata": {
    "collapsed": false,
    "deletable": true,
    "editable": true
   },
   "outputs": [],
   "source": [
    "# randomly select 100 samples with 2 random features\n",
    "num_vis = 100\n",
    "vis_indices = np.random.choice(X_train_orig.shape[0], num_vis)\n",
    "#features_indices1 = np.random.choice(X_train_orig.shape[1], 2)\n",
    "#features_indices2 = np.random.choice(X_train_orig.shape[2], 2)\n",
    "features_indices1 = [24, 9]\n",
    "features_indices2 = [17, 22]\n",
    "\n",
    "\n",
    "print('features_indices1: {0}'.format(features_indices1))\n",
    "print('features_indices2: {0}'.format(features_indices2))"
   ]
  },
  {
   "cell_type": "code",
   "execution_count": null,
   "metadata": {
    "collapsed": false,
    "deletable": true,
    "editable": true
   },
   "outputs": [],
   "source": [
    "X_train_not_hist_eq = base_preprocess(np.copy(X_train_orig), hist_eq=False)\n",
    "X_train_not_hist_eq = stats_preprocess(np.copy(X_train_not_hist_eq), X_train_not_hist_eq.mean(), X_train_not_hist_eq.std())\n",
    "print('X_train_not_hist_eq.mean: {0}'.format(X_train_not_hist_eq.mean()))\n",
    "print('X_train_not_hist_eq.min: {0}'.format(X_train_not_hist_eq.min()))\n",
    "print('X_train_not_hist_eq.max: {0}'.format(X_train_not_hist_eq.max()))\n",
    "\n",
    "plot_data_clouds(X_train_orig, X_train, X_train_not_hist_eq, vis_indices, features_indices1, features_indices2)"
   ]
  },
  {
   "cell_type": "code",
   "execution_count": null,
   "metadata": {
    "collapsed": false,
    "deletable": true,
    "editable": true
   },
   "outputs": [],
   "source": [
    "X_train_aug_not_hist_eq = base_preprocess(np.copy(X_train_orig_aug), hist_eq=False)\n",
    "X_train_aug_not_hist_eq = stats_preprocess(np.copy(X_train_aug_not_hist_eq), X_train_aug_not_hist_eq.mean(), X_train_aug_not_hist_eq.std())\n",
    "print('X_train_aug_not_hist_eq.mean: {0}'.format(X_train_aug_not_hist_eq.mean()))\n",
    "print('X_train_aug_not_hist_eq.min: {0}'.format(X_train_aug_not_hist_eq.min()))\n",
    "print('X_train_aug_not_hist_eq.max: {0}'.format(X_train_aug_not_hist_eq.max()))\n",
    "\n",
    "plot_data_clouds(X_train_orig_aug, X_train_aug, X_train_aug_not_hist_eq, vis_indices, features_indices1, features_indices2)"
   ]
  },
  {
   "cell_type": "markdown",
   "metadata": {
    "deletable": true,
    "editable": true
   },
   "source": [
    "The Preprocessed data cloud is centered around the origin (due to subtracting the mean and HistogramEqualization) \n",
    "and additionally scaled by standard deviation."
   ]
  },
  {
   "cell_type": "markdown",
   "metadata": {
    "deletable": true,
    "editable": true
   },
   "source": [
    "### Define methods for plotting accuracy and loss curves"
   ]
  },
  {
   "cell_type": "code",
   "execution_count": null,
   "metadata": {
    "collapsed": true,
    "deletable": true,
    "editable": true
   },
   "outputs": [],
   "source": [
    "def plot_history_curve(plt_col, train_values, valid_values, title, ylabel, xlabel):\n",
    "    plt_col.plot(train_values)\n",
    "    plt_col.plot(valid_values)\n",
    "    plt_col.set_title(title)\n",
    "    plt_col.set_ylabel(ylabel)\n",
    "    plt_col.set_xlabel(xlabel)\n",
    "    plt_col.legend(['train', 'valid'], loc='upper left')\n",
    "    #plt.savefig('./accuracy_curve.png')\n",
    "    \n",
    "    \n",
    "def plot_history_curves(history):\n",
    "    fig, axes = plt.subplots(nrows=1, ncols=2, figsize=(15, 5))\n",
    "    \n",
    "    plt_col1 = axes[0]\n",
    "    plot_history_curve(plt_col1, history['train_acc'], history['valid_acc'], 'model accuracy', 'accuracy', 'epoch')\n",
    "    \n",
    "    plt_col2 = axes[1]\n",
    "    plot_history_curve(plt_col2, history['train_loss'], history['valid_loss'], 'model loss', 'loss', 'epoch')\n",
    "    \n",
    "    plt.tight_layout()\n",
    "    "
   ]
  },
  {
   "cell_type": "markdown",
   "metadata": {
    "deletable": true,
    "editable": true
   },
   "source": [
    "### Model Architecture\n",
    "\n",
    "Use LeNet defined in an external python source LeNet.py"
   ]
  },
  {
   "cell_type": "code",
   "execution_count": null,
   "metadata": {
    "collapsed": false,
    "deletable": true,
    "editable": true
   },
   "outputs": [],
   "source": [
    "from LeNet import LeNetConfig, LeNet\n",
    "\n",
    "num_classes = n_classes\n",
    "input_dim = X_train.shape[1:]"
   ]
  },
  {
   "cell_type": "markdown",
   "metadata": {
    "deletable": true,
    "editable": true
   },
   "source": [
    "### Train, Validate and Test the Model"
   ]
  },
  {
   "cell_type": "markdown",
   "metadata": {
    "deletable": true,
    "editable": true
   },
   "source": [
    "A validation set can be used to assess how well the model is performing. A low accuracy on the training and validation\n",
    "sets imply underfitting. A high accuracy on the training set but low accuracy on the validation set implies overfitting."
   ]
  },
  {
   "cell_type": "code",
   "execution_count": null,
   "metadata": {
    "collapsed": false,
    "deletable": true,
    "editable": true
   },
   "outputs": [],
   "source": [
    "### Train your model here.\n",
    "### Calculate and report the accuracy on the training and validation set.\n",
    "### Once a final model architecture is selected, \n",
    "### the accuracy on the test set should be calculated and reported as well.\n",
    "### Feel free to use as many code cells as needed."
   ]
  },
  {
   "cell_type": "code",
   "execution_count": null,
   "metadata": {
    "collapsed": false,
    "deletable": true,
    "editable": true
   },
   "outputs": [],
   "source": [
    "final_params = {\n",
    "            'conv': [{'num_filters': 16, 'filter_size': 3, 'pool_size': 0, },\n",
    "                     {'num_filters': 16, 'filter_size': 3, },\n",
    "                     {'num_filters': 64, 'filter_size': 3, 'pool_size': 0},\n",
    "                     {'num_filters': 64, 'filter_size': 3, }\n",
    "                    ],\n",
    "            'fc': [256, 256],\n",
    "            'lr_start': 1e-3, \n",
    "            'l2': 1e-3, \n",
    "            'dropout_prob': 0.25, \n",
    "            'batch_size': 64\n",
    "}\n",
    "\n",
    "\n",
    "num_epochs = 100\n",
    "final_lenet_config = LeNetConfig(input_dim, num_classes, final_params)\n",
    "final_lenet = LeNet(final_lenet_config)\n",
    "#(final_history, final_valid_loss, final_valid_accuracy) = final_lenet.fit(X_train, y_train, X_valid, y_valid, num_epochs)\n",
    "#(final_history, final_valid_loss, final_valid_accuracy) = final_lenet.fit(X_train_aug, y_train_aug, X_valid_aug, y_valid_aug, num_epochs)\n",
    "#final_lenet.save('./nets/final_aug_lenet_100/net.ckpt')\n",
    "final_lenet.restore(tf.train.latest_checkpoint('./nets/final_aug_lenet_100/'))"
   ]
  },
  {
   "cell_type": "code",
   "execution_count": null,
   "metadata": {
    "collapsed": false,
    "deletable": true,
    "editable": true
   },
   "outputs": [],
   "source": [
    "plot_history_curves(final_history)"
   ]
  },
  {
   "cell_type": "code",
   "execution_count": null,
   "metadata": {
    "collapsed": false,
    "deletable": true,
    "editable": true
   },
   "outputs": [],
   "source": [
    "test_accuracy = final_lenet.eval_accuracy(X_test_aug, y_test_aug)\n",
    "print(\"*************** Test Accuracy: {:.1f}% *****************\".format(test_accuracy*100))"
   ]
  },
  {
   "cell_type": "code",
   "execution_count": null,
   "metadata": {
    "collapsed": false
   },
   "outputs": [],
   "source": [
    "train_accuracy = final_lenet.eval_accuracy(X_train_aug, y_train_aug)\n",
    "print(\"*************** Train Accuracy: {:.1f}% *****************\".format(train_accuracy*100))"
   ]
  },
  {
   "cell_type": "code",
   "execution_count": null,
   "metadata": {
    "collapsed": false
   },
   "outputs": [],
   "source": [
    "valid_accuracy = final_lenet.eval_accuracy(X_valid_aug, y_valid_aug)\n",
    "print(\"*************** Valid Accuracy: {:.1f}% *****************\".format(valid_accuracy*100))"
   ]
  },
  {
   "cell_type": "markdown",
   "metadata": {
    "deletable": true,
    "editable": true
   },
   "source": [
    "---\n",
    "\n",
    "## Step 3: Test a Model on New Images\n",
    "\n",
    "To give yourself more insight into how your model is working, download at least five pictures of German traffic signs from the web and use your model to predict the traffic sign type.\n",
    "\n",
    "You may find `signnames.csv` useful as it contains mappings from the class id (integer) to the actual sign name."
   ]
  },
  {
   "cell_type": "markdown",
   "metadata": {
    "deletable": true,
    "editable": true
   },
   "source": [
    "### Load and Output the Images"
   ]
  },
  {
   "cell_type": "code",
   "execution_count": null,
   "metadata": {
    "collapsed": false,
    "deletable": true,
    "editable": true
   },
   "outputs": [],
   "source": [
    "### Load the images and plot them here.\n",
    "### Feel free to use as many code cells as needed.\n",
    "import matplotlib.image as mpimg\n",
    "import math\n",
    "\n",
    "web_images_dir = 'data/web/'\n",
    "web_images_names = ['01-speed-limit-30-1.png', '12-priority-road-1.png', '13-yield-1.png',\n",
    "              '15-no-vehicles-1.png', '17-no-entry-1.png', '25-road-work-1.png',\n",
    "              '31-wild-animals-crossing-1.png', '33-turn-right-ahead-1.png', '36-go-straight-or-right-1.png',\n",
    "              '02-speed-limit-50-snow-1.png', '14-stop-snow-1.png', '25-road-work-snow-2.png'\n",
    "             ]\n",
    "web_images_classes = np.array([1, 12, 13, 15, 17, 25, 31, 33, 36, 2, 14, 25])\n",
    "\n",
    "web_images = []\n",
    "for img_name in web_images_names:\n",
    "    web_images.append(mpimg.imread(web_images_dir + img_name))\n",
    "web_images = np.array(web_images)\n",
    "\n",
    "num_web_samples = web_images.shape[0]\n",
    "images_per_row = 6\n",
    "num_rows = int(math.ceil(num_web_samples / images_per_row))\n",
    "fig, axes = plt.subplots(nrows=num_rows, ncols=images_per_row, figsize=(12, 4))\n",
    "for row_idx, plt_row in zip(range(num_rows), axes):\n",
    "    for col_idx in range(images_per_row):\n",
    "        idx = row_idx*images_per_row + col_idx\n",
    "        if idx < num_web_samples:\n",
    "            plt_row[col_idx].set_title('{0}'.format(signnames_data.get_value(web_images_classes[idx], 'SignName')))\n",
    "            plt_row[col_idx].imshow(web_images[idx])\n",
    "        else:\n",
    "            break\n",
    "\n",
    "plt.tight_layout()   \n"
   ]
  },
  {
   "cell_type": "markdown",
   "metadata": {
    "deletable": true,
    "editable": true
   },
   "source": [
    "### Predict the Sign Type for Each Image"
   ]
  },
  {
   "cell_type": "code",
   "execution_count": null,
   "metadata": {
    "collapsed": false,
    "deletable": true,
    "editable": true
   },
   "outputs": [],
   "source": [
    "### Run the predictions here and use the model to output the prediction for each image.\n",
    "### Make sure to pre-process the images with the same pre-processing pipeline used earlier.\n",
    "### Feel free to use as many code cells as needed.\n",
    "\n",
    "X_web = full_preprocess(np.copy(web_images), train_aug_mean, train_aug_std)\n",
    "y_web = np.copy(web_images_classes)\n",
    "\n",
    "y_web_predicted = final_lenet.predict_class(X_web)\n",
    "\n",
    "print('Real Classes:      {0}'.format(y_web))\n",
    "print('Predicted Classes: {0}'.format(y_web_predicted))"
   ]
  },
  {
   "cell_type": "markdown",
   "metadata": {
    "deletable": true,
    "editable": true
   },
   "source": [
    "### Analyze Performance"
   ]
  },
  {
   "cell_type": "code",
   "execution_count": null,
   "metadata": {
    "collapsed": false,
    "deletable": true,
    "editable": true
   },
   "outputs": [],
   "source": [
    "### Calculate the accuracy for these 5 new images. \n",
    "### For example, if the model predicted 1 out of 5 signs correctly, it's 20% accurate on these new images.\n",
    "web_accuracy = final_lenet.eval_accuracy(X_web, y_web)\n",
    "print(\"*************** Web Images Accuracy: {:.1f}% *****************\".format(web_accuracy*100))"
   ]
  },
  {
   "cell_type": "markdown",
   "metadata": {
    "deletable": true,
    "editable": true
   },
   "source": [
    "### Output Top 5 Softmax Probabilities For Each Image Found on the Web"
   ]
  },
  {
   "cell_type": "markdown",
   "metadata": {
    "deletable": true,
    "editable": true
   },
   "source": [
    "For each of the new images, print out the model's softmax probabilities to show the **certainty** of the model's predictions (limit the output to the top 5 probabilities for each image). [`tf.nn.top_k`](https://www.tensorflow.org/versions/r0.12/api_docs/python/nn.html#top_k) could prove helpful here. "
   ]
  },
  {
   "cell_type": "code",
   "execution_count": null,
   "metadata": {
    "collapsed": false,
    "scrolled": true
   },
   "outputs": [],
   "source": [
    "top_k = 5\n",
    "web_top_5 = final_lenet.top_k_probabilities(X_web, 5)\n",
    "print('The top five softmax probabilities of the predictions:')\n",
    "print(web_top_5)\n",
    "web_top_probs, web_top_classes = web_top_5\n",
    "num_web_samples = X_web.shape[0]"
   ]
  },
  {
   "cell_type": "code",
   "execution_count": null,
   "metadata": {
    "collapsed": true
   },
   "outputs": [],
   "source": [
    "# Get by one sample for each class\n",
    "X_classes = np.array([None]*num_classes)\n",
    "for c in range(num_classes):\n",
    "    indices = np.where(y_test_orig == c)[0][0]\n",
    "    X_classes[c] = X_test_orig[indices]"
   ]
  },
  {
   "cell_type": "code",
   "execution_count": null,
   "metadata": {
    "collapsed": false
   },
   "outputs": [],
   "source": [
    "fig, axes = plt.subplots(nrows=num_web_samples, ncols=top_k+1, figsize=(20, 20))\n",
    "        \n",
    "for img_idx, plt_row in zip(range(num_web_samples), axes):\n",
    "    # Origin Image\n",
    "    plt_row[0].set_title('Web Image')\n",
    "    plt_row[0].imshow(web_images[img_idx])\n",
    "    \n",
    "    # BarChart of Prediction Probabilites\n",
    "    #plt_row[1].bar(web_top_classes[img_idx], web_top_probs[img_idx])\n",
    "    #plt_row[1].grid(True)\n",
    "    \n",
    "    # Predictions\n",
    "    for prob_idx in range(top_k):\n",
    "        plt_row[prob_idx+1].set_title('Prob: {:.1f}%'.format(web_top_probs[img_idx][prob_idx]*100))\n",
    "        plt_row[prob_idx+1].imshow(X_classes[web_top_classes[img_idx][prob_idx]])\n",
    "\n",
    "plt.tight_layout()   "
   ]
  },
  {
   "cell_type": "code",
   "execution_count": null,
   "metadata": {
    "collapsed": false
   },
   "outputs": [],
   "source": [
    "fig, axes = plt.subplots(nrows=num_web_samples, ncols=2, figsize=(20, 20))\n",
    "        \n",
    "for img_idx, plt_row in zip(range(num_web_samples), axes):\n",
    "    # Origin Image\n",
    "    plt_row[0].set_title('Web Image')\n",
    "    plt_row[0].imshow(web_images[img_idx])\n",
    "    \n",
    "    # BarChart of Prediction Probabilites\n",
    "    plt_row[1].bar(web_top_classes[img_idx], web_top_probs[img_idx])\n",
    "    plt_row[1].set_xticks(range(0, num_classes))\n",
    "    plt_row[1].grid(True)\n",
    "    \n",
    "    # Predictions\n",
    "    #for prob_idx in range(top_k):\n",
    "    #    plt_row[prob_idx+2].set_title('Prob: {:.1f}%'.format(web_top_probs[img_idx][prob_idx]*100))\n",
    "    #    plt_row[prob_idx+2].imshow(X_classes[web_top_classes[img_idx][prob_idx]])\n",
    "\n",
    "plt.tight_layout()   "
   ]
  },
  {
   "cell_type": "code",
   "execution_count": null,
   "metadata": {
    "collapsed": false
   },
   "outputs": [],
   "source": [
    "import sklearn as sk\n",
    "from sklearn.metrics import confusion_matrix\n",
    "\n",
    "def print_precision_recall(y_true, y_predict):\n",
    "    average = \"weighted\"\n",
    "    print(\"Precision: {0}\".format(sk.metrics.precision_score(y_true, y_predict, average=average)))\n",
    "    print(\"Recall: {0}\".format(sk.metrics.recall_score(y_true, y_predict, average=average)))\n",
    "    print(\"F1 score: {0}\".format(sk.metrics.f1_score(y_true, y_predict, average=average)))\n",
    "    print(\"Confusion Matrix:\")\n",
    "    print(sk.metrics.confusion_matrix(y_true, y_predict))\n",
    "    #fpr, tpr, tresholds = sk.metrics.roc_curve(y_true, y_predict)\n",
    "    #return sk.metrics.roc_curve(y_true, y_predict)\n",
    "    "
   ]
  },
  {
   "cell_type": "code",
   "execution_count": null,
   "metadata": {
    "collapsed": false
   },
   "outputs": [],
   "source": [
    "y_test_aug_pred = final_lenet.predict_class(X_test_aug)\n",
    "y_web_predicted = final_lenet.predict_class(X_web)"
   ]
  },
  {
   "cell_type": "code",
   "execution_count": null,
   "metadata": {
    "collapsed": false
   },
   "outputs": [],
   "source": [
    "print_precision_recall(y_test_aug, y_test_aug_pred)"
   ]
  },
  {
   "cell_type": "code",
   "execution_count": null,
   "metadata": {
    "collapsed": false
   },
   "outputs": [],
   "source": [
    "print_precision_recall(y_web, y_web_predicted)"
   ]
  },
  {
   "cell_type": "markdown",
   "metadata": {
    "deletable": true,
    "editable": true
   },
   "source": [
    "---\n",
    "\n",
    "## Step 4: Visualize the Neural Network's State with Test Images\n",
    "\n",
    " This Section is not required to complete but acts as an additional excersise for understaning the output of a neural network's weights. While neural networks can be a great learning device they are often referred to as a black box. We can understand what the weights of a neural network look like better by plotting their feature maps. After successfully training your neural network you can see what it's feature maps look like by plotting the output of the network's weight layers in response to a test stimuli image. From these plotted feature maps, it's possible to see what characteristics of an image the network finds interesting. For a sign, maybe the inner network feature maps react with high activation to the sign's boundary outline or to the contrast in the sign's painted symbol.\n",
    "\n",
    " Provided for you below is the function code that allows you to get the visualization output of any tensorflow weight layer you want. The inputs to the function should be a stimuli image, one used during training or a new one you provided, and then the tensorflow variable name that represents the layer's state during the training process, for instance if you wanted to see what the [LeNet lab's](https://classroom.udacity.com/nanodegrees/nd013/parts/fbf77062-5703-404e-b60c-95b78b2f3f9e/modules/6df7ae49-c61c-4bb2-a23e-6527e69209ec/lessons/601ae704-1035-4287-8b11-e2c2716217ad/concepts/d4aca031-508f-4e0b-b493-e7b706120f81) feature maps looked like for it's second convolutional layer you could enter conv2 as the tf_activation variable.\n",
    "\n",
    "For an example of what feature map outputs look like, check out NVIDIA's results in their paper [End-to-End Deep Learning for Self-Driving Cars](https://devblogs.nvidia.com/parallelforall/deep-learning-self-driving-cars/) in the section Visualization of internal CNN State. NVIDIA was able to show that their network's inner weights had high activations to road boundary lines by comparing feature maps from an image with a clear path to one without. Try experimenting with a similar test to show that your trained network's weights are looking for interesting features, whether it's looking at differences in feature maps from images with or without a sign, or even what feature maps look like in a trained network vs a completely untrained one on the same sign image.\n",
    "\n",
    "<figure>\n",
    " <img src=\"visualize_cnn.png\" width=\"380\" alt=\"Combined Image\" />\n",
    " <figcaption>\n",
    " <p></p> \n",
    " <p style=\"text-align: center;\"> Your output should look something like this (above)</p> \n",
    " </figcaption>\n",
    "</figure>\n",
    " <p></p> \n"
   ]
  },
  {
   "cell_type": "code",
   "execution_count": null,
   "metadata": {
    "collapsed": false,
    "deletable": true,
    "editable": true
   },
   "outputs": [],
   "source": [
    "### Visualize your network's feature maps here.\n",
    "### Feel free to use as many code cells as needed.\n",
    "\n",
    "# image_input: the test image being fed into the network to produce the feature maps\n",
    "# tf_activation: should be a tf variable name used during your training procedure that represents the calculated state of a specific weight layer\n",
    "# activation_min/max: can be used to view the activation contrast in more detail, by default matplot sets min and max to the actual min and max values of the output\n",
    "# plt_num: used to plot out multiple different weight feature map sets on the same block, just extend the plt number for each new feature map entry\n",
    "\n",
    "def outputFeatureMap(image_input, leNet, tf_activation, activation_min=-1, activation_max=-1 ,plt_num=1):\n",
    "    # Here make sure to preprocess your image_input in a way your network expects\n",
    "    # with size, normalization, ect if needed\n",
    "    image_input = np.reshape(image_input, (1,*image_input.shape))\n",
    "    #image_input = rgb2gray(image_input / 255.0)\n",
    "    #image_input = preprocess_chain(image_input)\n",
    "    # Note: x should be the same name as your network's tensorflow data placeholder variable\n",
    "    # If you get an error tf_activation is not defined it maybe having trouble accessing the variable from inside a function\n",
    "    #activation = tf_activation.eval(session=sess,feed_dict={x : image_input})\n",
    "    activation = leNet.activation(image_input, tf_activation)\n",
    "    featuremaps = activation.shape[3]\n",
    "    #print(activation.shape)\n",
    "    plt.figure(plt_num, figsize=(15,15))\n",
    "    for featuremap in range(featuremaps):\n",
    "        plt.subplot(6,8, featuremap+1) # sets the number of feature maps to show on each row and column\n",
    "        plt.title('FeatureMap ' + str(featuremap)) # displays the feature map number\n",
    "        if activation_min != -1 & activation_max != -1:\n",
    "            plt.imshow(activation[0,:,:, featuremap], interpolation=\"nearest\", vmin =activation_min, vmax=activation_max, cmap=\"gray\")\n",
    "        elif activation_max != -1:\n",
    "            plt.imshow(activation[0,:,:, featuremap], interpolation=\"nearest\", vmax=activation_max, cmap=\"gray\")\n",
    "        elif activation_min !=-1:\n",
    "            plt.imshow(activation[0,:,:, featuremap], interpolation=\"nearest\", vmin=activation_min, cmap=\"gray\")\n",
    "        else:\n",
    "            plt.imshow(activation[0,:,:, featuremap], interpolation=\"nearest\", cmap=\"gray\")"
   ]
  },
  {
   "cell_type": "code",
   "execution_count": null,
   "metadata": {
    "collapsed": false,
    "deletable": true,
    "editable": true
   },
   "outputs": [],
   "source": [
    "outputFeatureMap(X_web[0], final_lenet, 'conv_1')"
   ]
  },
  {
   "cell_type": "code",
   "execution_count": null,
   "metadata": {
    "collapsed": false
   },
   "outputs": [],
   "source": [
    "outputFeatureMap(X_web[0], final_lenet, 'conv_1_relu')"
   ]
  },
  {
   "cell_type": "code",
   "execution_count": null,
   "metadata": {
    "collapsed": false
   },
   "outputs": [],
   "source": [
    "outputFeatureMap(X_web[1], final_lenet, 'conv_1')"
   ]
  },
  {
   "cell_type": "code",
   "execution_count": null,
   "metadata": {
    "collapsed": false
   },
   "outputs": [],
   "source": [
    "outputFeatureMap(X_web[2], final_lenet, 'conv_1')"
   ]
  },
  {
   "cell_type": "code",
   "execution_count": null,
   "metadata": {
    "collapsed": false
   },
   "outputs": [],
   "source": [
    "outputFeatureMap(X_web[3], final_lenet, 'conv_1')"
   ]
  },
  {
   "cell_type": "code",
   "execution_count": null,
   "metadata": {
    "collapsed": false
   },
   "outputs": [],
   "source": [
    "outputFeatureMap(X_web[4], final_lenet, 'conv_1')"
   ]
  },
  {
   "cell_type": "code",
   "execution_count": null,
   "metadata": {
    "collapsed": false
   },
   "outputs": [],
   "source": [
    "outputFeatureMap(X_web[5], final_lenet, 'conv_1')"
   ]
  },
  {
   "cell_type": "code",
   "execution_count": null,
   "metadata": {
    "collapsed": false
   },
   "outputs": [],
   "source": [
    "outputFeatureMap(X_web[6], final_lenet, 'conv_1')"
   ]
  },
  {
   "cell_type": "code",
   "execution_count": null,
   "metadata": {
    "collapsed": false
   },
   "outputs": [],
   "source": [
    "outputFeatureMap(X_web[7], final_lenet, 'conv_1')"
   ]
  },
  {
   "cell_type": "code",
   "execution_count": null,
   "metadata": {
    "collapsed": false
   },
   "outputs": [],
   "source": [
    "outputFeatureMap(X_web[0], final_lenet, 'conv_2')"
   ]
  },
  {
   "cell_type": "code",
   "execution_count": null,
   "metadata": {
    "collapsed": false
   },
   "outputs": [],
   "source": [
    "outputFeatureMap(X_web[0], final_lenet, 'conv_2_relu')"
   ]
  },
  {
   "cell_type": "code",
   "execution_count": null,
   "metadata": {
    "collapsed": false
   },
   "outputs": [],
   "source": [
    "outputFeatureMap(X_web[0], final_lenet, 'conv_2_pool')"
   ]
  },
  {
   "cell_type": "code",
   "execution_count": null,
   "metadata": {
    "collapsed": false
   },
   "outputs": [],
   "source": [
    "#outputFeatureMap(X_web[0], final_lenet, 'conv_3_relu')"
   ]
  },
  {
   "cell_type": "markdown",
   "metadata": {
    "deletable": true,
    "editable": true
   },
   "source": [
    "### Question 9\n",
    "\n",
    "Discuss how you used the visual output of your trained network's feature maps to show that it had learned to look for interesting characteristics in traffic sign images\n"
   ]
  },
  {
   "cell_type": "markdown",
   "metadata": {
    "deletable": true,
    "editable": true
   },
   "source": [
    "**Answer:**"
   ]
  },
  {
   "cell_type": "markdown",
   "metadata": {
    "deletable": true,
    "editable": true
   },
   "source": [
    "> **Note**: Once you have completed all of the code implementations and successfully answered each question above, you may finalize your work by exporting the iPython Notebook as an HTML document. You can do this by using the menu above and navigating to  \\n\",\n",
    "    \"**File -> Download as -> HTML (.html)**. Include the finished document along with this notebook as your submission."
   ]
  },
  {
   "cell_type": "markdown",
   "metadata": {
    "deletable": true,
    "editable": true
   },
   "source": [
    "### Project Writeup\n",
    "\n",
    "Once you have completed the code implementation, document your results in a project writeup using this [template](https://github.com/udacity/CarND-Traffic-Sign-Classifier-Project/blob/master/writeup_template.md) as a guide. The writeup can be in a markdown or pdf file. "
   ]
  }
 ],
 "metadata": {
  "anaconda-cloud": {},
  "kernelspec": {
   "display_name": "Python 3",
   "language": "python",
   "name": "python3"
  },
  "language_info": {
   "codemirror_mode": {
    "name": "ipython",
    "version": 3
   },
   "file_extension": ".py",
   "mimetype": "text/x-python",
   "name": "python",
   "nbconvert_exporter": "python",
   "pygments_lexer": "ipython3",
   "version": "3.5.2"
  },
  "widgets": {
   "state": {},
   "version": "1.1.2"
  }
 },
 "nbformat": 4,
 "nbformat_minor": 1
}
